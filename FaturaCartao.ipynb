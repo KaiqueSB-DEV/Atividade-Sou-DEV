total_fatura = 0
ultima_compra = False

while not ultima_compra:
    valor = float(input("Digite o valor da compra R$"))
    total_fatura += valor
    
    resposta = input("Essa foi a última compra? (S/N):").strip().upper()
    if resposta == 'S':
       ultima_compra = True
    
dia_pagamento = int(input("Digite o dia do pagamento (entre 1 e 31):"))

if dia_pagamento <= 25:
       print(f"O valor total da fatura é: R$ {total_fatura:.2f}, sem juros.")
else:
          juros = total_fatura * 0.03 
          dias_extras = dia_pagamento - 25
          juros_adicional = (total_fatura * 0.01) * dias_extras
          total_com_juros = total_fatura + juros + juros_adicional
          print(f"O valor total da fatura com juros é: R$ {total_com_juros:.2f}")

          
