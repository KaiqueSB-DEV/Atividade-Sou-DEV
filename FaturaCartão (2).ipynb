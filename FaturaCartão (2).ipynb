{
 "cells": [
  {
   "cell_type": "code",
   "execution_count": 6,
   "id": "4b803766",
   "metadata": {},
   "outputs": [
    {
     "name": "stdout",
     "output_type": "stream",
     "text": [
      "Digite o valor da compra R$90.13\n",
      "Essa foi a última compra? (S/N):N\n",
      "Digite o valor da compra R$8.00\n",
      "Essa foi a última compra? (S/N):N\n",
      "Digite o valor da compra R$8.00\n",
      "Essa foi a última compra? (S/N):N\n",
      "Digite o valor da compra R$50.89\n",
      "Essa foi a última compra? (S/N):N\n",
      "Digite o valor da compra R$5.30\n",
      "Essa foi a última compra? (S/N):N\n",
      "Digite o valor da compra R$30.00\n",
      "Essa foi a última compra? (S/N):N\n",
      "Digite o valor da compra R$8.33\n",
      "Essa foi a última compra? (S/N):N\n",
      "Digite o valor da compra R$9.36\n",
      "Essa foi a última compra? (S/N):N\n",
      "Digite o valor da compra R$31.30\n",
      "Essa foi a última compra? (S/N):N\n",
      "Digite o valor da compra R$75.79\n",
      "Essa foi a última compra? (S/N):S\n",
      "Digite o dia do pagamento (entre 1 e 31):25\n",
      "O valor total da fatura é: R$ 317.10, sem juros.\n"
     ]
    }
   ],
   "source": [
    "total_fatura = 0\n",
    "ultima_compra = False\n",
    "\n",
    "while not ultima_compra:\n",
    "    valor = float(input(\"Digite o valor da compra R$\"))\n",
    "    total_fatura += valor\n",
    "    \n",
    "    resposta = input(\"Essa foi a última compra? (S/N):\").strip().upper()\n",
    "    if resposta == 'S':\n",
    "       ultima_compra = True\n",
    "    \n",
    "dia_pagamento = int(input(\"Digite o dia do pagamento (entre 1 e 31):\"))\n",
    "\n",
    "if dia_pagamento <= 25:\n",
    "       print(f\"O valor total da fatura é: R$ {total_fatura:.2f}, sem juros.\")\n",
    "else:\n",
    "          juros = total_fatura * 0.03 \n",
    "          dias_extras = dia_pagamento - 25\n",
    "          juros_adicional = (total_fatura * 0.01) * dias_extras\n",
    "          total_com_juros = total_fatura + juros + juros_adicional\n",
    "          print(f\"O valor total da fatura com juros é: R$ {total_com_juros:.2f}\")\n",
    "\n",
    "          "
   ]
  },
  {
   "cell_type": "code",
   "execution_count": null,
   "id": "4e5e675b",
   "metadata": {},
   "outputs": [],
   "source": []
  }
 ],
 "metadata": {
  "kernelspec": {
   "display_name": "Python 3",
   "language": "python",
   "name": "python3"
  },
  "language_info": {
   "codemirror_mode": {
    "name": "ipython",
    "version": 3
   },
   "file_extension": ".py",
   "mimetype": "text/x-python",
   "name": "python",
   "nbconvert_exporter": "python",
   "pygments_lexer": "ipython3",
   "version": "3.8.8"
  }
 },
 "nbformat": 4,
 "nbformat_minor": 5
}
